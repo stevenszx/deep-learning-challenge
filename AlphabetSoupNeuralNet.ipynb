{
 "cells": [
  {
   "cell_type": "markdown",
   "metadata": {},
   "source": [
    "## Preprocessing"
   ]
  },
  {
   "cell_type": "code",
   "execution_count": 1,
   "metadata": {},
   "outputs": [
    {
     "data": {
      "text/html": [
       "<div>\n",
       "<style scoped>\n",
       "    .dataframe tbody tr th:only-of-type {\n",
       "        vertical-align: middle;\n",
       "    }\n",
       "\n",
       "    .dataframe tbody tr th {\n",
       "        vertical-align: top;\n",
       "    }\n",
       "\n",
       "    .dataframe thead th {\n",
       "        text-align: right;\n",
       "    }\n",
       "</style>\n",
       "<table border=\"1\" class=\"dataframe\">\n",
       "  <thead>\n",
       "    <tr style=\"text-align: right;\">\n",
       "      <th></th>\n",
       "      <th>EIN</th>\n",
       "      <th>NAME</th>\n",
       "      <th>APPLICATION_TYPE</th>\n",
       "      <th>AFFILIATION</th>\n",
       "      <th>CLASSIFICATION</th>\n",
       "      <th>USE_CASE</th>\n",
       "      <th>ORGANIZATION</th>\n",
       "      <th>STATUS</th>\n",
       "      <th>INCOME_AMT</th>\n",
       "      <th>SPECIAL_CONSIDERATIONS</th>\n",
       "      <th>ASK_AMT</th>\n",
       "      <th>IS_SUCCESSFUL</th>\n",
       "    </tr>\n",
       "  </thead>\n",
       "  <tbody>\n",
       "    <tr>\n",
       "      <th>0</th>\n",
       "      <td>10520599</td>\n",
       "      <td>BLUE KNIGHTS MOTORCYCLE CLUB</td>\n",
       "      <td>T10</td>\n",
       "      <td>Independent</td>\n",
       "      <td>C1000</td>\n",
       "      <td>ProductDev</td>\n",
       "      <td>Association</td>\n",
       "      <td>1</td>\n",
       "      <td>0</td>\n",
       "      <td>N</td>\n",
       "      <td>5000</td>\n",
       "      <td>1</td>\n",
       "    </tr>\n",
       "    <tr>\n",
       "      <th>1</th>\n",
       "      <td>10531628</td>\n",
       "      <td>AMERICAN CHESAPEAKE CLUB CHARITABLE TR</td>\n",
       "      <td>T3</td>\n",
       "      <td>Independent</td>\n",
       "      <td>C2000</td>\n",
       "      <td>Preservation</td>\n",
       "      <td>Co-operative</td>\n",
       "      <td>1</td>\n",
       "      <td>1-9999</td>\n",
       "      <td>N</td>\n",
       "      <td>108590</td>\n",
       "      <td>1</td>\n",
       "    </tr>\n",
       "    <tr>\n",
       "      <th>2</th>\n",
       "      <td>10547893</td>\n",
       "      <td>ST CLOUD PROFESSIONAL FIREFIGHTERS</td>\n",
       "      <td>T5</td>\n",
       "      <td>CompanySponsored</td>\n",
       "      <td>C3000</td>\n",
       "      <td>ProductDev</td>\n",
       "      <td>Association</td>\n",
       "      <td>1</td>\n",
       "      <td>0</td>\n",
       "      <td>N</td>\n",
       "      <td>5000</td>\n",
       "      <td>0</td>\n",
       "    </tr>\n",
       "    <tr>\n",
       "      <th>3</th>\n",
       "      <td>10553066</td>\n",
       "      <td>SOUTHSIDE ATHLETIC ASSOCIATION</td>\n",
       "      <td>T3</td>\n",
       "      <td>CompanySponsored</td>\n",
       "      <td>C2000</td>\n",
       "      <td>Preservation</td>\n",
       "      <td>Trust</td>\n",
       "      <td>1</td>\n",
       "      <td>10000-24999</td>\n",
       "      <td>N</td>\n",
       "      <td>6692</td>\n",
       "      <td>1</td>\n",
       "    </tr>\n",
       "    <tr>\n",
       "      <th>4</th>\n",
       "      <td>10556103</td>\n",
       "      <td>GENETIC RESEARCH INSTITUTE OF THE DESERT</td>\n",
       "      <td>T3</td>\n",
       "      <td>Independent</td>\n",
       "      <td>C1000</td>\n",
       "      <td>Heathcare</td>\n",
       "      <td>Trust</td>\n",
       "      <td>1</td>\n",
       "      <td>100000-499999</td>\n",
       "      <td>N</td>\n",
       "      <td>142590</td>\n",
       "      <td>1</td>\n",
       "    </tr>\n",
       "  </tbody>\n",
       "</table>\n",
       "</div>"
      ],
      "text/plain": [
       "        EIN                                      NAME APPLICATION_TYPE  \\\n",
       "0  10520599              BLUE KNIGHTS MOTORCYCLE CLUB              T10   \n",
       "1  10531628    AMERICAN CHESAPEAKE CLUB CHARITABLE TR               T3   \n",
       "2  10547893        ST CLOUD PROFESSIONAL FIREFIGHTERS               T5   \n",
       "3  10553066            SOUTHSIDE ATHLETIC ASSOCIATION               T3   \n",
       "4  10556103  GENETIC RESEARCH INSTITUTE OF THE DESERT               T3   \n",
       "\n",
       "        AFFILIATION CLASSIFICATION      USE_CASE  ORGANIZATION  STATUS  \\\n",
       "0       Independent          C1000    ProductDev   Association       1   \n",
       "1       Independent          C2000  Preservation  Co-operative       1   \n",
       "2  CompanySponsored          C3000    ProductDev   Association       1   \n",
       "3  CompanySponsored          C2000  Preservation         Trust       1   \n",
       "4       Independent          C1000     Heathcare         Trust       1   \n",
       "\n",
       "      INCOME_AMT SPECIAL_CONSIDERATIONS  ASK_AMT  IS_SUCCESSFUL  \n",
       "0              0                      N     5000              1  \n",
       "1         1-9999                      N   108590              1  \n",
       "2              0                      N     5000              0  \n",
       "3    10000-24999                      N     6692              1  \n",
       "4  100000-499999                      N   142590              1  "
      ]
     },
     "execution_count": 1,
     "metadata": {},
     "output_type": "execute_result"
    }
   ],
   "source": [
    "# Import our dependencies\n",
    "from sklearn.model_selection import train_test_split\n",
    "from sklearn.preprocessing import StandardScaler\n",
    "import pandas as pd\n",
    "import tensorflow as tf\n",
    "from tensorflow.keras.callbacks import ModelCheckpoint\n",
    "\n",
    "#  Import and read the charity_data.csv.\n",
    "import pandas as pd \n",
    "application_df = pd.read_csv(\"https://static.bc-edx.com/data/dl-1-2/m21/lms/starter/charity_data.csv\")\n",
    "application_df.head()"
   ]
  },
  {
   "cell_type": "code",
   "execution_count": 2,
   "metadata": {},
   "outputs": [
    {
     "data": {
      "text/html": [
       "<div>\n",
       "<style scoped>\n",
       "    .dataframe tbody tr th:only-of-type {\n",
       "        vertical-align: middle;\n",
       "    }\n",
       "\n",
       "    .dataframe tbody tr th {\n",
       "        vertical-align: top;\n",
       "    }\n",
       "\n",
       "    .dataframe thead th {\n",
       "        text-align: right;\n",
       "    }\n",
       "</style>\n",
       "<table border=\"1\" class=\"dataframe\">\n",
       "  <thead>\n",
       "    <tr style=\"text-align: right;\">\n",
       "      <th></th>\n",
       "      <th>APPLICATION_TYPE</th>\n",
       "      <th>AFFILIATION</th>\n",
       "      <th>CLASSIFICATION</th>\n",
       "      <th>USE_CASE</th>\n",
       "      <th>ORGANIZATION</th>\n",
       "      <th>STATUS</th>\n",
       "      <th>INCOME_AMT</th>\n",
       "      <th>SPECIAL_CONSIDERATIONS</th>\n",
       "      <th>ASK_AMT</th>\n",
       "      <th>IS_SUCCESSFUL</th>\n",
       "    </tr>\n",
       "  </thead>\n",
       "  <tbody>\n",
       "    <tr>\n",
       "      <th>0</th>\n",
       "      <td>T10</td>\n",
       "      <td>Independent</td>\n",
       "      <td>C1000</td>\n",
       "      <td>ProductDev</td>\n",
       "      <td>Association</td>\n",
       "      <td>1</td>\n",
       "      <td>0</td>\n",
       "      <td>N</td>\n",
       "      <td>5000</td>\n",
       "      <td>1</td>\n",
       "    </tr>\n",
       "    <tr>\n",
       "      <th>1</th>\n",
       "      <td>T3</td>\n",
       "      <td>Independent</td>\n",
       "      <td>C2000</td>\n",
       "      <td>Preservation</td>\n",
       "      <td>Co-operative</td>\n",
       "      <td>1</td>\n",
       "      <td>1-9999</td>\n",
       "      <td>N</td>\n",
       "      <td>108590</td>\n",
       "      <td>1</td>\n",
       "    </tr>\n",
       "    <tr>\n",
       "      <th>2</th>\n",
       "      <td>T5</td>\n",
       "      <td>CompanySponsored</td>\n",
       "      <td>C3000</td>\n",
       "      <td>ProductDev</td>\n",
       "      <td>Association</td>\n",
       "      <td>1</td>\n",
       "      <td>0</td>\n",
       "      <td>N</td>\n",
       "      <td>5000</td>\n",
       "      <td>0</td>\n",
       "    </tr>\n",
       "    <tr>\n",
       "      <th>3</th>\n",
       "      <td>T3</td>\n",
       "      <td>CompanySponsored</td>\n",
       "      <td>C2000</td>\n",
       "      <td>Preservation</td>\n",
       "      <td>Trust</td>\n",
       "      <td>1</td>\n",
       "      <td>10000-24999</td>\n",
       "      <td>N</td>\n",
       "      <td>6692</td>\n",
       "      <td>1</td>\n",
       "    </tr>\n",
       "    <tr>\n",
       "      <th>4</th>\n",
       "      <td>T3</td>\n",
       "      <td>Independent</td>\n",
       "      <td>C1000</td>\n",
       "      <td>Heathcare</td>\n",
       "      <td>Trust</td>\n",
       "      <td>1</td>\n",
       "      <td>100000-499999</td>\n",
       "      <td>N</td>\n",
       "      <td>142590</td>\n",
       "      <td>1</td>\n",
       "    </tr>\n",
       "  </tbody>\n",
       "</table>\n",
       "</div>"
      ],
      "text/plain": [
       "  APPLICATION_TYPE       AFFILIATION CLASSIFICATION      USE_CASE  \\\n",
       "0              T10       Independent          C1000    ProductDev   \n",
       "1               T3       Independent          C2000  Preservation   \n",
       "2               T5  CompanySponsored          C3000    ProductDev   \n",
       "3               T3  CompanySponsored          C2000  Preservation   \n",
       "4               T3       Independent          C1000     Heathcare   \n",
       "\n",
       "   ORGANIZATION  STATUS     INCOME_AMT SPECIAL_CONSIDERATIONS  ASK_AMT  \\\n",
       "0   Association       1              0                      N     5000   \n",
       "1  Co-operative       1         1-9999                      N   108590   \n",
       "2   Association       1              0                      N     5000   \n",
       "3         Trust       1    10000-24999                      N     6692   \n",
       "4         Trust       1  100000-499999                      N   142590   \n",
       "\n",
       "   IS_SUCCESSFUL  \n",
       "0              1  \n",
       "1              1  \n",
       "2              0  \n",
       "3              1  \n",
       "4              1  "
      ]
     },
     "execution_count": 2,
     "metadata": {},
     "output_type": "execute_result"
    }
   ],
   "source": [
    "# Drop the non-beneficial ID columns, 'EIN' and 'NAME'.\n",
    "application_df = application_df.drop([\"EIN\", \"NAME\"], axis=1)\n",
    "application_df.head()"
   ]
  },
  {
   "cell_type": "code",
   "execution_count": 3,
   "metadata": {},
   "outputs": [
    {
     "data": {
      "text/plain": [
       "APPLICATION_TYPE            17\n",
       "AFFILIATION                  6\n",
       "CLASSIFICATION              71\n",
       "USE_CASE                     5\n",
       "ORGANIZATION                 4\n",
       "STATUS                       2\n",
       "INCOME_AMT                   9\n",
       "SPECIAL_CONSIDERATIONS       2\n",
       "ASK_AMT                   8747\n",
       "IS_SUCCESSFUL                2\n",
       "dtype: int64"
      ]
     },
     "execution_count": 3,
     "metadata": {},
     "output_type": "execute_result"
    }
   ],
   "source": [
    "# Determine the number of unique values in each column.\n",
    "unique_value_counts = application_df.nunique()\n",
    "unique_value_counts"
   ]
  },
  {
   "cell_type": "code",
   "execution_count": 4,
   "metadata": {},
   "outputs": [
    {
     "data": {
      "text/plain": [
       "T3     27037\n",
       "T4      1542\n",
       "T6      1216\n",
       "T5      1173\n",
       "T19     1065\n",
       "T8       737\n",
       "T7       725\n",
       "T10      528\n",
       "T9       156\n",
       "T13       66\n",
       "T12       27\n",
       "T2        16\n",
       "T25        3\n",
       "T14        3\n",
       "T29        2\n",
       "T15        2\n",
       "T17        1\n",
       "Name: APPLICATION_TYPE, dtype: int64"
      ]
     },
     "execution_count": 4,
     "metadata": {},
     "output_type": "execute_result"
    }
   ],
   "source": [
    "# Look at APPLICATION_TYPE value counts for binning\n",
    "app_type_counts = application_df[\"APPLICATION_TYPE\"].value_counts()\n",
    "app_type_counts"
   ]
  },
  {
   "cell_type": "code",
   "execution_count": 5,
   "metadata": {},
   "outputs": [
    {
     "data": {
      "text/plain": [
       "T3       27037\n",
       "T4        1542\n",
       "T6        1216\n",
       "T5        1173\n",
       "T19       1065\n",
       "T8         737\n",
       "T7         725\n",
       "T10        528\n",
       "Other      276\n",
       "Name: APPLICATION_TYPE, dtype: int64"
      ]
     },
     "execution_count": 5,
     "metadata": {},
     "output_type": "execute_result"
    }
   ],
   "source": [
    "# Choose a cutoff value and create a list of application types to be replaced\n",
    "# use the variable name `application_types_to_replace`\n",
    "cutoff = 500\n",
    "application_types_to_replace = list(app_type_counts[app_type_counts < cutoff].index)\n",
    "\n",
    "# Replace in dataframe\n",
    "for app in application_types_to_replace:\n",
    "    application_df['APPLICATION_TYPE'] = application_df['APPLICATION_TYPE'].replace(app,\"Other\")\n",
    "\n",
    "# Check to make sure binning was successful\n",
    "application_df['APPLICATION_TYPE'].value_counts()"
   ]
  },
  {
   "cell_type": "code",
   "execution_count": 6,
   "metadata": {},
   "outputs": [
    {
     "data": {
      "text/plain": [
       "C1000    17326\n",
       "C2000     6074\n",
       "C1200     4837\n",
       "C3000     1918\n",
       "C2100     1883\n",
       "         ...  \n",
       "C4120        1\n",
       "C8210        1\n",
       "C2561        1\n",
       "C4500        1\n",
       "C2150        1\n",
       "Name: CLASSIFICATION, Length: 71, dtype: int64"
      ]
     },
     "execution_count": 6,
     "metadata": {},
     "output_type": "execute_result"
    }
   ],
   "source": [
    "# Look at CLASSIFICATION value counts for binning\n",
    "class_counts = application_df[\"CLASSIFICATION\"].value_counts()\n",
    "class_counts"
   ]
  },
  {
   "cell_type": "code",
   "execution_count": 7,
   "metadata": {},
   "outputs": [
    {
     "data": {
      "text/plain": [
       "C1000    17326\n",
       "C2000     6074\n",
       "C1200     4837\n",
       "C3000     1918\n",
       "C2100     1883\n",
       "C7000      777\n",
       "C1700      287\n",
       "C4000      194\n",
       "C5000      116\n",
       "C1270      114\n",
       "C2700      104\n",
       "C2800       95\n",
       "C7100       75\n",
       "C1300       58\n",
       "C1280       50\n",
       "C1230       36\n",
       "C1400       34\n",
       "C7200       32\n",
       "C2300       32\n",
       "C1240       30\n",
       "C8000       20\n",
       "C7120       18\n",
       "C1500       16\n",
       "C1800       15\n",
       "C6000       15\n",
       "C1250       14\n",
       "C8200       11\n",
       "C1238       10\n",
       "C1278       10\n",
       "C1235        9\n",
       "C1237        9\n",
       "C7210        7\n",
       "C2400        6\n",
       "C1720        6\n",
       "C4100        6\n",
       "C1257        5\n",
       "C1600        5\n",
       "C1260        3\n",
       "C2710        3\n",
       "C0           3\n",
       "C3200        2\n",
       "C1234        2\n",
       "C1246        2\n",
       "C1267        2\n",
       "C1256        2\n",
       "Name: CLASSIFICATION, dtype: int64"
      ]
     },
     "execution_count": 7,
     "metadata": {},
     "output_type": "execute_result"
    }
   ],
   "source": [
    "# You may find it helpful to look at CLASSIFICATION value counts >1\n",
    "class_counts[class_counts > 1]"
   ]
  },
  {
   "cell_type": "code",
   "execution_count": 8,
   "metadata": {},
   "outputs": [
    {
     "data": {
      "text/plain": [
       "C1000    17326\n",
       "C2000     6074\n",
       "C1200     4837\n",
       "Other     2261\n",
       "C3000     1918\n",
       "C2100     1883\n",
       "Name: CLASSIFICATION, dtype: int64"
      ]
     },
     "execution_count": 8,
     "metadata": {},
     "output_type": "execute_result"
    }
   ],
   "source": [
    "# Choose a cutoff value and create a list of classifications to be replaced\n",
    "# use the variable name `classifications_to_replace`\n",
    "cutoff = 1000\n",
    "classifications_to_replace = list(class_counts[class_counts < cutoff].index)\n",
    "\n",
    "# Replace in dataframe\n",
    "for cls in classifications_to_replace:\n",
    "    application_df['CLASSIFICATION'] = application_df['CLASSIFICATION'].replace(cls,\"Other\")\n",
    "    \n",
    "# Check to make sure binning was successful\n",
    "application_df['CLASSIFICATION'].value_counts()"
   ]
  },
  {
   "cell_type": "code",
   "execution_count": 9,
   "metadata": {},
   "outputs": [],
   "source": [
    "# Convert categorical data to numeric with `pd.get_dummies`\n",
    "dummy_application_df = pd.get_dummies(application_df)"
   ]
  },
  {
   "cell_type": "code",
   "execution_count": 10,
   "metadata": {},
   "outputs": [
    {
     "name": "stdout",
     "output_type": "stream",
     "text": [
      "X_train shape: (25724, 43)\n",
      "X_test shape: (8575, 43)\n",
      "y_train shape: (25724,)\n",
      "y_test shape: (8575,)\n"
     ]
    }
   ],
   "source": [
    "# Split our preprocessed data into our features and target arrays\n",
    "y = dummy_application_df['IS_SUCCESSFUL']\n",
    "X = dummy_application_df.drop(columns=['IS_SUCCESSFUL'])\n",
    "\n",
    "# Split the preprocessed data into a training and testing dataset\n",
    "X_train, X_test, y_train, y_test = train_test_split(X, y, random_state=42, stratify=y)\n",
    "\n",
    "print(f\"X_train shape: {X_train.shape}\")\n",
    "print(f\"X_test shape: {X_test.shape}\")\n",
    "print(f\"y_train shape: {y_train.shape}\")\n",
    "print(f\"y_test shape: {y_test.shape}\")"
   ]
  },
  {
   "cell_type": "code",
   "execution_count": 11,
   "metadata": {},
   "outputs": [],
   "source": [
    "# Create a StandardScaler instances\n",
    "scaler = StandardScaler()\n",
    "\n",
    "# Fit the StandardScaler\n",
    "X_scaler = scaler.fit(X_train)\n",
    "\n",
    "# Scale the data\n",
    "X_train_scaled = X_scaler.transform(X_train)\n",
    "X_test_scaled = X_scaler.transform(X_test)"
   ]
  },
  {
   "cell_type": "markdown",
   "metadata": {},
   "source": [
    "## Compile, Train and Evaluate the Model"
   ]
  },
  {
   "cell_type": "code",
   "execution_count": 18,
   "metadata": {},
   "outputs": [
    {
     "name": "stdout",
     "output_type": "stream",
     "text": [
      "Model: \"sequential_1\"\n",
      "_________________________________________________________________\n",
      " Layer (type)                Output Shape              Param #   \n",
      "=================================================================\n",
      " dense_3 (Dense)             (None, 80)                3520      \n",
      "                                                                 \n",
      " dense_4 (Dense)             (None, 40)                3240      \n",
      "                                                                 \n",
      " dense_5 (Dense)             (None, 1)                 41        \n",
      "                                                                 \n",
      "=================================================================\n",
      "Total params: 6801 (26.57 KB)\n",
      "Trainable params: 6801 (26.57 KB)\n",
      "Non-trainable params: 0 (0.00 Byte)\n",
      "_________________________________________________________________\n"
     ]
    }
   ],
   "source": [
    "# Define the model - deep neural net, i.e., the number of input features and hidden nodes for each layer.\n",
    "#  YOUR CODE GOES HERE\n",
    "\n",
    "nn = tf.keras.models.Sequential()\n",
    "\n",
    "# First hidden layer\n",
    "nn.add(tf.keras.layers.Dense(units=80, activation='relu', input_dim=43))\n",
    "\n",
    "# Second hidden layer\n",
    "nn.add(tf.keras.layers.Dense(units=30, activation='relu'))\n",
    "\n",
    "# Output layer\n",
    "nn.add(tf.keras.layers.Dense(units=1, activation='sigmoid'))\n",
    "\n",
    "# Check the structure of the model\n",
    "nn.summary()"
   ]
  },
  {
   "cell_type": "code",
   "execution_count": 13,
   "metadata": {},
   "outputs": [
    {
     "name": "stdout",
     "output_type": "stream",
     "text": [
      "WARNING:tensorflow:`period` argument is deprecated. Please use `save_freq` to specify the frequency in number of batches seen.\n"
     ]
    }
   ],
   "source": [
    "# Model weights file path\n",
    "checkpoint_filepath = \"model_checkpoint.h5\"\n",
    "\n",
    "# Create a ModelCheckpoint callback\n",
    "model_checkpoint_callback = ModelCheckpoint(\n",
    "    filepath=checkpoint_filepath,\n",
    "    save_weights_only=True,\n",
    "    save_best_only=False,\n",
    "    period=5\n",
    ")"
   ]
  },
  {
   "cell_type": "code",
   "execution_count": 14,
   "metadata": {},
   "outputs": [],
   "source": [
    "# Compile the model\n",
    "nn.compile(loss='binary_crossentropy', optimizer='adam', metrics=['accuracy'])"
   ]
  },
  {
   "cell_type": "code",
   "execution_count": 15,
   "metadata": {},
   "outputs": [
    {
     "name": "stdout",
     "output_type": "stream",
     "text": [
      "Epoch 1/100\n",
      "804/804 [==============================] - 1s 852us/step - loss: 127119.2578 - accuracy: 0.4985\n",
      "Epoch 2/100\n",
      "804/804 [==============================] - 1s 834us/step - loss: 15872.1074 - accuracy: 0.4817\n",
      "Epoch 3/100\n",
      "804/804 [==============================] - 1s 834us/step - loss: 72875.2031 - accuracy: 0.4885\n",
      "Epoch 4/100\n",
      "804/804 [==============================] - 1s 848us/step - loss: 25292.2285 - accuracy: 0.5101\n",
      "Epoch 5/100\n",
      "804/804 [==============================] - 1s 884us/step - loss: 11691.2881 - accuracy: 0.4979\n",
      "Epoch 6/100\n",
      "804/804 [==============================] - 1s 839us/step - loss: 28351.3125 - accuracy: 0.5046\n",
      "Epoch 7/100\n",
      "804/804 [==============================] - 1s 890us/step - loss: 14880.3965 - accuracy: 0.5077\n",
      "Epoch 8/100\n",
      "804/804 [==============================] - 1s 850us/step - loss: 7270.9355 - accuracy: 0.4948\n",
      "Epoch 9/100\n",
      "804/804 [==============================] - 1s 949us/step - loss: 16469.5176 - accuracy: 0.5233\n",
      "Epoch 10/100\n",
      "804/804 [==============================] - 1s 865us/step - loss: 6804.7617 - accuracy: 0.5077\n",
      "Epoch 11/100\n",
      "804/804 [==============================] - 1s 872us/step - loss: 3370.7986 - accuracy: 0.4981\n",
      "Epoch 12/100\n",
      "804/804 [==============================] - 1s 829us/step - loss: 5817.3154 - accuracy: 0.5243\n",
      "Epoch 13/100\n",
      "804/804 [==============================] - 1s 872us/step - loss: 590.9155 - accuracy: 0.5145\n",
      "Epoch 14/100\n",
      "804/804 [==============================] - 1s 897us/step - loss: 73.5920 - accuracy: 0.5114\n",
      "Epoch 15/100\n",
      "804/804 [==============================] - 1s 1ms/step - loss: 52.6563 - accuracy: 0.5324\n",
      "Epoch 16/100\n",
      "804/804 [==============================] - 1s 870us/step - loss: 0.6911 - accuracy: 0.5324\n",
      "Epoch 17/100\n",
      "804/804 [==============================] - 1s 850us/step - loss: 0.6911 - accuracy: 0.5324\n",
      "Epoch 18/100\n",
      "804/804 [==============================] - 1s 1ms/step - loss: 0.6911 - accuracy: 0.5324\n",
      "Epoch 19/100\n",
      "804/804 [==============================] - 1s 2ms/step - loss: 0.6911 - accuracy: 0.5324\n",
      "Epoch 20/100\n",
      "804/804 [==============================] - 1s 926us/step - loss: 0.6911 - accuracy: 0.5324\n",
      "Epoch 21/100\n",
      "804/804 [==============================] - 1s 894us/step - loss: 0.6911 - accuracy: 0.5324\n",
      "Epoch 22/100\n",
      "804/804 [==============================] - 1s 1ms/step - loss: 0.6911 - accuracy: 0.5324\n",
      "Epoch 23/100\n",
      "804/804 [==============================] - 1s 898us/step - loss: 0.6912 - accuracy: 0.5324\n",
      "Epoch 24/100\n",
      "804/804 [==============================] - 1s 853us/step - loss: 0.6911 - accuracy: 0.5324\n",
      "Epoch 25/100\n",
      "804/804 [==============================] - 1s 907us/step - loss: 0.6911 - accuracy: 0.5324\n",
      "Epoch 26/100\n",
      "804/804 [==============================] - 1s 942us/step - loss: 0.6911 - accuracy: 0.5324\n",
      "Epoch 27/100\n",
      "804/804 [==============================] - 1s 897us/step - loss: 0.6911 - accuracy: 0.5324\n",
      "Epoch 28/100\n",
      "804/804 [==============================] - 1s 872us/step - loss: 0.6911 - accuracy: 0.5324\n",
      "Epoch 29/100\n",
      "804/804 [==============================] - 1s 927us/step - loss: 0.6911 - accuracy: 0.5324\n",
      "Epoch 30/100\n",
      "804/804 [==============================] - 1s 907us/step - loss: 0.6912 - accuracy: 0.5324\n",
      "Epoch 31/100\n",
      "804/804 [==============================] - 1s 899us/step - loss: 0.6912 - accuracy: 0.5324\n",
      "Epoch 32/100\n",
      "804/804 [==============================] - 1s 930us/step - loss: 0.6911 - accuracy: 0.5324\n",
      "Epoch 33/100\n",
      "804/804 [==============================] - 1s 936us/step - loss: 0.6912 - accuracy: 0.5324\n",
      "Epoch 34/100\n",
      "804/804 [==============================] - 1s 874us/step - loss: 0.6911 - accuracy: 0.5324\n",
      "Epoch 35/100\n",
      "804/804 [==============================] - 1s 879us/step - loss: 0.6911 - accuracy: 0.5324\n",
      "Epoch 36/100\n",
      "804/804 [==============================] - 1s 899us/step - loss: 0.6911 - accuracy: 0.5324\n",
      "Epoch 37/100\n",
      "804/804 [==============================] - 1s 873us/step - loss: 0.6912 - accuracy: 0.5324\n",
      "Epoch 38/100\n",
      "804/804 [==============================] - 1s 878us/step - loss: 0.6911 - accuracy: 0.5324\n",
      "Epoch 39/100\n",
      "804/804 [==============================] - 1s 881us/step - loss: 0.6911 - accuracy: 0.5324\n",
      "Epoch 40/100\n",
      "804/804 [==============================] - 1s 953us/step - loss: 0.6911 - accuracy: 0.5324\n",
      "Epoch 41/100\n",
      "804/804 [==============================] - 1s 888us/step - loss: 0.6911 - accuracy: 0.5324\n",
      "Epoch 42/100\n",
      "804/804 [==============================] - 1s 872us/step - loss: 0.6911 - accuracy: 0.5324\n",
      "Epoch 43/100\n",
      "804/804 [==============================] - 1s 868us/step - loss: 0.6911 - accuracy: 0.5324\n",
      "Epoch 44/100\n",
      "804/804 [==============================] - 1s 919us/step - loss: 0.6912 - accuracy: 0.5324\n",
      "Epoch 45/100\n",
      "804/804 [==============================] - 1s 887us/step - loss: 0.6912 - accuracy: 0.5324\n",
      "Epoch 46/100\n",
      "804/804 [==============================] - 1s 857us/step - loss: 0.6912 - accuracy: 0.5324\n",
      "Epoch 47/100\n",
      "804/804 [==============================] - 1s 934us/step - loss: 0.6911 - accuracy: 0.5324\n",
      "Epoch 48/100\n",
      "804/804 [==============================] - 1s 882us/step - loss: 0.6912 - accuracy: 0.5324\n",
      "Epoch 49/100\n",
      "804/804 [==============================] - 1s 867us/step - loss: 0.6912 - accuracy: 0.5324\n",
      "Epoch 50/100\n",
      "804/804 [==============================] - 1s 902us/step - loss: 0.6912 - accuracy: 0.5324\n",
      "Epoch 51/100\n",
      "804/804 [==============================] - 1s 909us/step - loss: 0.6911 - accuracy: 0.5324\n",
      "Epoch 52/100\n",
      "804/804 [==============================] - 1s 867us/step - loss: 0.6913 - accuracy: 0.5324\n",
      "Epoch 53/100\n",
      "804/804 [==============================] - 1s 872us/step - loss: 0.6912 - accuracy: 0.5324\n",
      "Epoch 54/100\n",
      "804/804 [==============================] - 1s 935us/step - loss: 0.6913 - accuracy: 0.5324\n",
      "Epoch 55/100\n",
      "804/804 [==============================] - 1s 883us/step - loss: 0.6913 - accuracy: 0.5324\n",
      "Epoch 56/100\n",
      "804/804 [==============================] - 1s 887us/step - loss: 0.6913 - accuracy: 0.5324\n",
      "Epoch 57/100\n",
      "804/804 [==============================] - 1s 883us/step - loss: 0.6913 - accuracy: 0.5324\n",
      "Epoch 58/100\n",
      "804/804 [==============================] - 1s 895us/step - loss: 0.6913 - accuracy: 0.5324\n",
      "Epoch 59/100\n",
      "804/804 [==============================] - 1s 864us/step - loss: 0.6912 - accuracy: 0.5324\n",
      "Epoch 60/100\n",
      "804/804 [==============================] - 1s 879us/step - loss: 0.6912 - accuracy: 0.5324\n",
      "Epoch 61/100\n",
      "804/804 [==============================] - 1s 951us/step - loss: 0.6912 - accuracy: 0.5324\n",
      "Epoch 62/100\n",
      "804/804 [==============================] - 1s 864us/step - loss: 0.6912 - accuracy: 0.5324\n",
      "Epoch 63/100\n",
      "804/804 [==============================] - 1s 871us/step - loss: 0.6912 - accuracy: 0.5324\n",
      "Epoch 64/100\n",
      "804/804 [==============================] - 1s 881us/step - loss: 0.6912 - accuracy: 0.5324\n",
      "Epoch 65/100\n",
      "804/804 [==============================] - 1s 919us/step - loss: 0.6912 - accuracy: 0.5324\n",
      "Epoch 66/100\n",
      "804/804 [==============================] - 1s 878us/step - loss: 0.6912 - accuracy: 0.5324\n",
      "Epoch 67/100\n",
      "804/804 [==============================] - 1s 875us/step - loss: 0.6912 - accuracy: 0.5324\n",
      "Epoch 68/100\n",
      "804/804 [==============================] - 1s 943us/step - loss: 0.6912 - accuracy: 0.5324\n",
      "Epoch 69/100\n",
      "804/804 [==============================] - 1s 884us/step - loss: 0.6912 - accuracy: 0.5324\n",
      "Epoch 70/100\n",
      "804/804 [==============================] - 1s 898us/step - loss: 0.6912 - accuracy: 0.5324\n",
      "Epoch 71/100\n",
      "804/804 [==============================] - 1s 888us/step - loss: 0.6911 - accuracy: 0.5324\n",
      "Epoch 72/100\n",
      "804/804 [==============================] - 1s 877us/step - loss: 0.6912 - accuracy: 0.5324\n",
      "Epoch 73/100\n",
      "804/804 [==============================] - 1s 863us/step - loss: 0.6912 - accuracy: 0.5324\n",
      "Epoch 74/100\n",
      "804/804 [==============================] - 1s 868us/step - loss: 0.6912 - accuracy: 0.5324\n",
      "Epoch 75/100\n",
      "804/804 [==============================] - 1s 941us/step - loss: 0.6912 - accuracy: 0.5324\n",
      "Epoch 76/100\n",
      "804/804 [==============================] - 1s 872us/step - loss: 0.6912 - accuracy: 0.5324\n",
      "Epoch 77/100\n",
      "804/804 [==============================] - 1s 863us/step - loss: 0.6912 - accuracy: 0.5324\n",
      "Epoch 78/100\n",
      "804/804 [==============================] - 1s 890us/step - loss: 0.6911 - accuracy: 0.5324\n",
      "Epoch 79/100\n",
      "804/804 [==============================] - 1s 872us/step - loss: 0.6912 - accuracy: 0.5324\n",
      "Epoch 80/100\n",
      "804/804 [==============================] - 1s 857us/step - loss: 0.6912 - accuracy: 0.5324\n",
      "Epoch 81/100\n",
      "804/804 [==============================] - 1s 864us/step - loss: 0.6912 - accuracy: 0.5324\n",
      "Epoch 82/100\n",
      "804/804 [==============================] - 1s 931us/step - loss: 0.6912 - accuracy: 0.5324\n",
      "Epoch 83/100\n",
      "804/804 [==============================] - 1s 852us/step - loss: 0.6912 - accuracy: 0.5324\n",
      "Epoch 84/100\n",
      "804/804 [==============================] - 1s 867us/step - loss: 0.6913 - accuracy: 0.5324\n",
      "Epoch 85/100\n",
      "804/804 [==============================] - 1s 900us/step - loss: 0.6911 - accuracy: 0.5324\n",
      "Epoch 86/100\n",
      "804/804 [==============================] - 1s 865us/step - loss: 0.6912 - accuracy: 0.5324\n",
      "Epoch 87/100\n",
      "804/804 [==============================] - 1s 861us/step - loss: 0.6912 - accuracy: 0.5324\n",
      "Epoch 88/100\n",
      "804/804 [==============================] - 1s 931us/step - loss: 0.6912 - accuracy: 0.5324\n",
      "Epoch 89/100\n",
      "804/804 [==============================] - 1s 894us/step - loss: 0.6913 - accuracy: 0.5324\n",
      "Epoch 90/100\n",
      "804/804 [==============================] - 1s 866us/step - loss: 0.6912 - accuracy: 0.5324\n",
      "Epoch 91/100\n",
      "804/804 [==============================] - 1s 867us/step - loss: 0.6911 - accuracy: 0.5324\n",
      "Epoch 92/100\n",
      "804/804 [==============================] - 1s 897us/step - loss: 0.6913 - accuracy: 0.5324\n",
      "Epoch 93/100\n",
      "804/804 [==============================] - 1s 857us/step - loss: 0.6912 - accuracy: 0.5324\n",
      "Epoch 94/100\n",
      "804/804 [==============================] - 1s 862us/step - loss: 0.6912 - accuracy: 0.5324\n",
      "Epoch 95/100\n",
      "804/804 [==============================] - 1s 907us/step - loss: 0.6912 - accuracy: 0.5324\n",
      "Epoch 96/100\n",
      "804/804 [==============================] - 1s 899us/step - loss: 0.6911 - accuracy: 0.5324\n",
      "Epoch 97/100\n",
      "804/804 [==============================] - 1s 888us/step - loss: 0.6911 - accuracy: 0.5324\n",
      "Epoch 98/100\n",
      "804/804 [==============================] - 1s 896us/step - loss: 0.6912 - accuracy: 0.5324\n",
      "Epoch 99/100\n",
      "804/804 [==============================] - 1s 859us/step - loss: 0.6912 - accuracy: 0.5324\n",
      "Epoch 100/100\n",
      "804/804 [==============================] - 1s 871us/step - loss: 0.6912 - accuracy: 0.5324\n"
     ]
    }
   ],
   "source": [
    "# Train the model\n",
    "model_fit = nn.fit(X_train, y_train, epochs=100, verbose=1, callbacks=[model_checkpoint_callback])"
   ]
  },
  {
   "cell_type": "code",
   "execution_count": 16,
   "metadata": {},
   "outputs": [
    {
     "name": "stdout",
     "output_type": "stream",
     "text": [
      "268/268 - 0s - loss: 0.7044 - accuracy: 0.5759 - 244ms/epoch - 910us/step\n",
      "Loss: 0.7043522000312805, Accuracy: 0.5758600831031799\n"
     ]
    }
   ],
   "source": [
    "# Evaluate the model using the test data\n",
    "model_loss, model_accuracy = nn.evaluate(X_test_scaled,y_test,verbose=2)\n",
    "print(f\"Loss: {model_loss}, Accuracy: {model_accuracy}\")"
   ]
  },
  {
   "cell_type": "code",
   "execution_count": 17,
   "metadata": {},
   "outputs": [
    {
     "name": "stderr",
     "output_type": "stream",
     "text": [
      "c:\\ProgramData\\anaconda3\\envs\\dev\\lib\\site-packages\\keras\\src\\engine\\training.py:3079: UserWarning: You are saving your model as an HDF5 file via `model.save()`. This file format is considered legacy. We recommend using instead the native Keras format, e.g. `model.save('my_model.keras')`.\n",
      "  saving_api.save_model(\n"
     ]
    }
   ],
   "source": [
    "# Export our model to HDF5 file\n",
    "nn.save(\"AlphabetSoupCharity.h5\")"
   ]
  }
 ],
 "metadata": {
  "kernelspec": {
   "display_name": "Python 3",
   "language": "python",
   "name": "python3"
  },
  "language_info": {
   "codemirror_mode": {
    "name": "ipython",
    "version": 3
   },
   "file_extension": ".py",
   "mimetype": "text/x-python",
   "name": "python",
   "nbconvert_exporter": "python",
   "pygments_lexer": "ipython3",
   "version": "3.10.11"
  },
  "vscode": {
   "interpreter": {
    "hash": "31f2aee4e71d21fbe5cf8b01ff0e069b9275f58929596ceb00d14d90e3e16cd6"
   }
  }
 },
 "nbformat": 4,
 "nbformat_minor": 4
}
